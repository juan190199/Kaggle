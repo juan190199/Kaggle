{
 "cells": [
  {
   "cell_type": "code",
   "execution_count": 1,
   "outputs": [],
   "source": [
    "import os\n",
    "\n",
    "import matplotlib.pyplot as plt\n",
    "import numpy as np\n",
    "import pandas as pd\n",
    "import sklearn as sk\n",
    "\n",
    "from sklearn.linear_model import LogisticRegression, Perceptron, SGDClassifier\n",
    "from sklearn.svm import SVC, LinearSVC\n",
    "from sklearn.ensemble import RandomForestClassifier\n",
    "from sklearn.neighbors import KNeighborsClassifier\n",
    "from sklearn.naive_bayes import GaussianNB\n",
    "from sklearn.tree import DecisionTreeClassifier\n",
    "\n",
    "from sklearn.model_selection import train_test_split, StratifiedKFold\n",
    "from sklearn.metrics import accuracy_score, roc_curve, auc\n",
    "from sklearn.preprocessing import OneHotEncoder, LabelEncoder, StandardScaler\n",
    "\n",
    "import seaborn as sns\n",
    "import matplotlib.pyplot as plt\n",
    "\n",
    "import string\n",
    "import warnings\n",
    "warnings.filterwarnings('ignore')\n",
    "\n",
    "%load_ext autoreload\n",
    "%autoreload 2\n"
   ],
   "metadata": {
    "collapsed": false,
    "pycharm": {
     "name": "#%%\n"
    }
   }
  },
  {
   "cell_type": "code",
   "execution_count": 2,
   "outputs": [],
   "source": [
    "df_train = pd.read_csv('data/train.csv')\n",
    "df_test = pd.read_csv('data/test.csv')\n",
    "df_all = pd.concat([df_train, df_test], sort=True).reset_index(drop=True)\n",
    "\n",
    "df_train.name = 'Training set'\n",
    "df_test.name = 'Test set'\n",
    "df_all.name = 'All sets'\n",
    "\n",
    "dfs = [df_train, df_test]\n"
   ],
   "metadata": {
    "collapsed": false,
    "pycharm": {
     "name": "#%%\n"
    }
   }
  },
  {
   "cell_type": "code",
   "execution_count": 3,
   "outputs": [
    {
     "name": "stdout",
     "output_type": "stream",
     "text": [
      "<class 'pandas.core.frame.DataFrame'>\n",
      "RangeIndex: 891 entries, 0 to 890\n",
      "Data columns (total 12 columns):\n",
      " #   Column       Non-Null Count  Dtype  \n",
      "---  ------       --------------  -----  \n",
      " 0   PassengerId  891 non-null    int64  \n",
      " 1   Survived     891 non-null    int64  \n",
      " 2   Pclass       891 non-null    int64  \n",
      " 3   Name         891 non-null    object \n",
      " 4   Sex          891 non-null    object \n",
      " 5   Age          714 non-null    float64\n",
      " 6   SibSp        891 non-null    int64  \n",
      " 7   Parch        891 non-null    int64  \n",
      " 8   Ticket       891 non-null    object \n",
      " 9   Fare         891 non-null    float64\n",
      " 10  Cabin        204 non-null    object \n",
      " 11  Embarked     889 non-null    object \n",
      "dtypes: float64(2), int64(5), object(5)\n",
      "memory usage: 83.7+ KB\n",
      "None\n"
     ]
    }
   ],
   "source": [
    "print(df_train.info())\n"
   ],
   "metadata": {
    "collapsed": false,
    "pycharm": {
     "name": "#%%\n"
    }
   }
  },
  {
   "cell_type": "code",
   "execution_count": 4,
   "outputs": [
    {
     "name": "stdout",
     "output_type": "stream",
     "text": [
      "Training set\n",
      "PassengerId column missing values: 0\n",
      "Survived column missing values: 0\n",
      "Pclass column missing values: 0\n",
      "Name column missing values: 0\n",
      "Sex column missing values: 0\n",
      "Age column missing values: 177\n",
      "SibSp column missing values: 0\n",
      "Parch column missing values: 0\n",
      "Ticket column missing values: 0\n",
      "Fare column missing values: 0\n",
      "Cabin column missing values: 687\n",
      "Embarked column missing values: 2\n",
      "Test set\n",
      "PassengerId column missing values: 0\n",
      "Pclass column missing values: 0\n",
      "Name column missing values: 0\n",
      "Sex column missing values: 0\n",
      "Age column missing values: 86\n",
      "SibSp column missing values: 0\n",
      "Parch column missing values: 0\n",
      "Ticket column missing values: 0\n",
      "Fare column missing values: 1\n",
      "Cabin column missing values: 327\n",
      "Embarked column missing values: 0\n"
     ]
    }
   ],
   "source": [
    "def display_missing(df):\n",
    "    for col in df.columns.tolist():\n",
    "        print('{} column missing values: {}'. format(col, df[col].isnull().sum()))\n",
    "\n",
    "for df in dfs:\n",
    "    print('{}'.format(df.name))\n",
    "    display_missing(df)"
   ],
   "metadata": {
    "collapsed": false,
    "pycharm": {
     "name": "#%%\n"
    }
   }
  },
  {
   "cell_type": "code",
   "execution_count": 5,
   "outputs": [
    {
     "data": {
      "text/plain": "   Feature 1    Feature 2  Correlation Coefficient\n7        Age  PassengerId                 0.028814\n19       Age     Survived                 0.077221\n23       Age        Parch                 0.150917\n26       Age         Fare                 0.178740\n31       Age        SibSp                 0.243699\n39       Age       Pclass                 0.408106\n42       Age          Age                 1.000000",
      "text/html": "<div>\n<style scoped>\n    .dataframe tbody tr th:only-of-type {\n        vertical-align: middle;\n    }\n\n    .dataframe tbody tr th {\n        vertical-align: top;\n    }\n\n    .dataframe thead th {\n        text-align: right;\n    }\n</style>\n<table border=\"1\" class=\"dataframe\">\n  <thead>\n    <tr style=\"text-align: right;\">\n      <th></th>\n      <th>Feature 1</th>\n      <th>Feature 2</th>\n      <th>Correlation Coefficient</th>\n    </tr>\n  </thead>\n  <tbody>\n    <tr>\n      <th>7</th>\n      <td>Age</td>\n      <td>PassengerId</td>\n      <td>0.028814</td>\n    </tr>\n    <tr>\n      <th>19</th>\n      <td>Age</td>\n      <td>Survived</td>\n      <td>0.077221</td>\n    </tr>\n    <tr>\n      <th>23</th>\n      <td>Age</td>\n      <td>Parch</td>\n      <td>0.150917</td>\n    </tr>\n    <tr>\n      <th>26</th>\n      <td>Age</td>\n      <td>Fare</td>\n      <td>0.178740</td>\n    </tr>\n    <tr>\n      <th>31</th>\n      <td>Age</td>\n      <td>SibSp</td>\n      <td>0.243699</td>\n    </tr>\n    <tr>\n      <th>39</th>\n      <td>Age</td>\n      <td>Pclass</td>\n      <td>0.408106</td>\n    </tr>\n    <tr>\n      <th>42</th>\n      <td>Age</td>\n      <td>Age</td>\n      <td>1.000000</td>\n    </tr>\n  </tbody>\n</table>\n</div>"
     },
     "execution_count": 5,
     "metadata": {},
     "output_type": "execute_result"
    }
   ],
   "source": [
    "# Dealing with missing values\n",
    "\n",
    "## Age ##\n",
    "\n",
    "df_all_corr = df_all.corr().abs().unstack().sort_values(kind='quicksort', ascending=True).reset_index()\n",
    "df_all_corr.rename(columns={'level_0': 'Feature 1', 'level_1': 'Feature 2', 0: 'Correlation Coefficient'}, inplace=True)\n",
    "df_all_corr[df_all_corr['Feature 1'] == 'Age']\n"
   ],
   "metadata": {
    "collapsed": false,
    "pycharm": {
     "name": "#%%\n"
    }
   }
  },
  {
   "cell_type": "code",
   "execution_count": 6,
   "outputs": [
    {
     "data": {
      "text/plain": "   Feature 1    Feature 2  Correlation Coefficient\n5     Pclass        Parch                 0.018322\n13    Pclass  PassengerId                 0.038354\n16    Pclass        SibSp                 0.060832\n35    Pclass     Survived                 0.338481\n38    Pclass          Age                 0.408106\n40    Pclass         Fare                 0.558629\n44    Pclass       Pclass                 1.000000",
      "text/html": "<div>\n<style scoped>\n    .dataframe tbody tr th:only-of-type {\n        vertical-align: middle;\n    }\n\n    .dataframe tbody tr th {\n        vertical-align: top;\n    }\n\n    .dataframe thead th {\n        text-align: right;\n    }\n</style>\n<table border=\"1\" class=\"dataframe\">\n  <thead>\n    <tr style=\"text-align: right;\">\n      <th></th>\n      <th>Feature 1</th>\n      <th>Feature 2</th>\n      <th>Correlation Coefficient</th>\n    </tr>\n  </thead>\n  <tbody>\n    <tr>\n      <th>5</th>\n      <td>Pclass</td>\n      <td>Parch</td>\n      <td>0.018322</td>\n    </tr>\n    <tr>\n      <th>13</th>\n      <td>Pclass</td>\n      <td>PassengerId</td>\n      <td>0.038354</td>\n    </tr>\n    <tr>\n      <th>16</th>\n      <td>Pclass</td>\n      <td>SibSp</td>\n      <td>0.060832</td>\n    </tr>\n    <tr>\n      <th>35</th>\n      <td>Pclass</td>\n      <td>Survived</td>\n      <td>0.338481</td>\n    </tr>\n    <tr>\n      <th>38</th>\n      <td>Pclass</td>\n      <td>Age</td>\n      <td>0.408106</td>\n    </tr>\n    <tr>\n      <th>40</th>\n      <td>Pclass</td>\n      <td>Fare</td>\n      <td>0.558629</td>\n    </tr>\n    <tr>\n      <th>44</th>\n      <td>Pclass</td>\n      <td>Pclass</td>\n      <td>1.000000</td>\n    </tr>\n  </tbody>\n</table>\n</div>"
     },
     "execution_count": 6,
     "metadata": {},
     "output_type": "execute_result"
    }
   ],
   "source": [
    "df_all_corr = df_all.corr().abs().unstack().sort_values(kind='quicksort', ascending=True).reset_index()\n",
    "df_all_corr.rename(columns={'level_0': 'Feature 1', 'level_1': 'Feature 2', 0: 'Correlation Coefficient'}, inplace=True)\n",
    "df_all_corr[df_all_corr['Feature 1'] == 'Pclass']\n"
   ],
   "metadata": {
    "collapsed": false,
    "pycharm": {
     "name": "#%%\n"
    }
   }
  },
  {
   "cell_type": "code",
   "execution_count": 7,
   "outputs": [
    {
     "name": "stdout",
     "output_type": "stream",
     "text": [
      "Median age of Pclass 1 females: 36.0\n",
      "Median age of Pclass 1 males: 42.0\n",
      "Median age of Pclass 2 females: 28.0\n",
      "Median age of Pclass 2 males: 29.5\n",
      "Median age of Pclass 3 females: 22.0\n",
      "Median age of Pclass 3 males: 25.0\n",
      "Median age of all passengers: 28.0\n"
     ]
    }
   ],
   "source": [
    "age_by_pclass_sex = df_all.groupby(['Sex', 'Pclass']).median()['Age']\n",
    "\n",
    "for pclass in range(1, 4):\n",
    "    for sex in ['female', 'male']:\n",
    "        print('Median age of Pclass {} {}s: {}'.format(pclass, sex, age_by_pclass_sex[sex][pclass]))\n",
    "\n",
    "print('Median age of all passengers: {}'.format(df_all['Age'].median()))\n",
    "\n",
    "# Fill missing values in age with the median of sex and pclass groups\n",
    "df_all['Age'] = df_all.groupby(['Sex', 'Pclass'])['Age'].apply(lambda x: x.fillna(x.median()))\n"
   ],
   "metadata": {
    "collapsed": false,
    "pycharm": {
     "name": "#%%\n"
    }
   }
  },
  {
   "cell_type": "code",
   "execution_count": 8,
   "outputs": [
    {
     "data": {
      "text/plain": "      Age Cabin Embarked  Fare                                       Name  \\\n61   38.0   B28      NaN  80.0                        Icard, Miss. Amelie   \n829  62.0   B28      NaN  80.0  Stone, Mrs. George Nelson (Martha Evelyn)   \n\n     Parch  PassengerId  Pclass     Sex  SibSp  Survived  Ticket  \n61       0           62       1  female      0       1.0  113572  \n829      0          830       1  female      0       1.0  113572  ",
      "text/html": "<div>\n<style scoped>\n    .dataframe tbody tr th:only-of-type {\n        vertical-align: middle;\n    }\n\n    .dataframe tbody tr th {\n        vertical-align: top;\n    }\n\n    .dataframe thead th {\n        text-align: right;\n    }\n</style>\n<table border=\"1\" class=\"dataframe\">\n  <thead>\n    <tr style=\"text-align: right;\">\n      <th></th>\n      <th>Age</th>\n      <th>Cabin</th>\n      <th>Embarked</th>\n      <th>Fare</th>\n      <th>Name</th>\n      <th>Parch</th>\n      <th>PassengerId</th>\n      <th>Pclass</th>\n      <th>Sex</th>\n      <th>SibSp</th>\n      <th>Survived</th>\n      <th>Ticket</th>\n    </tr>\n  </thead>\n  <tbody>\n    <tr>\n      <th>61</th>\n      <td>38.0</td>\n      <td>B28</td>\n      <td>NaN</td>\n      <td>80.0</td>\n      <td>Icard, Miss. Amelie</td>\n      <td>0</td>\n      <td>62</td>\n      <td>1</td>\n      <td>female</td>\n      <td>0</td>\n      <td>1.0</td>\n      <td>113572</td>\n    </tr>\n    <tr>\n      <th>829</th>\n      <td>62.0</td>\n      <td>B28</td>\n      <td>NaN</td>\n      <td>80.0</td>\n      <td>Stone, Mrs. George Nelson (Martha Evelyn)</td>\n      <td>0</td>\n      <td>830</td>\n      <td>1</td>\n      <td>female</td>\n      <td>0</td>\n      <td>1.0</td>\n      <td>113572</td>\n    </tr>\n  </tbody>\n</table>\n</div>"
     },
     "execution_count": 8,
     "metadata": {},
     "output_type": "execute_result"
    }
   ],
   "source": [
    "## Embarked ##\n",
    "\n",
    "df_all[df_all['Embarked'].isnull()]"
   ],
   "metadata": {
    "collapsed": false,
    "pycharm": {
     "name": "#%%\n"
    }
   }
  },
  {
   "cell_type": "code",
   "execution_count": 9,
   "outputs": [],
   "source": [
    "# After researching, Mrs.Stone embarked from Southampton 'S' with her maid Miss Icard\n",
    "df_all['Embarked'] = df_all['Embarked'].fillna('S')\n"
   ],
   "metadata": {
    "collapsed": false,
    "pycharm": {
     "name": "#%%\n"
    }
   }
  },
  {
   "cell_type": "code",
   "execution_count": 10,
   "outputs": [
    {
     "data": {
      "text/plain": "       Age Cabin Embarked  Fare                Name  Parch  PassengerId  \\\n1043  60.5   NaN        S   NaN  Storey, Mr. Thomas      0         1044   \n\n      Pclass   Sex  SibSp  Survived Ticket  \n1043       3  male      0       NaN   3701  ",
      "text/html": "<div>\n<style scoped>\n    .dataframe tbody tr th:only-of-type {\n        vertical-align: middle;\n    }\n\n    .dataframe tbody tr th {\n        vertical-align: top;\n    }\n\n    .dataframe thead th {\n        text-align: right;\n    }\n</style>\n<table border=\"1\" class=\"dataframe\">\n  <thead>\n    <tr style=\"text-align: right;\">\n      <th></th>\n      <th>Age</th>\n      <th>Cabin</th>\n      <th>Embarked</th>\n      <th>Fare</th>\n      <th>Name</th>\n      <th>Parch</th>\n      <th>PassengerId</th>\n      <th>Pclass</th>\n      <th>Sex</th>\n      <th>SibSp</th>\n      <th>Survived</th>\n      <th>Ticket</th>\n    </tr>\n  </thead>\n  <tbody>\n    <tr>\n      <th>1043</th>\n      <td>60.5</td>\n      <td>NaN</td>\n      <td>S</td>\n      <td>NaN</td>\n      <td>Storey, Mr. Thomas</td>\n      <td>0</td>\n      <td>1044</td>\n      <td>3</td>\n      <td>male</td>\n      <td>0</td>\n      <td>NaN</td>\n      <td>3701</td>\n    </tr>\n  </tbody>\n</table>\n</div>"
     },
     "execution_count": 10,
     "metadata": {},
     "output_type": "execute_result"
    }
   ],
   "source": [
    "## Fare ##\n",
    "\n",
    "df_all[df_all['Fare'].isnull()]\n"
   ],
   "metadata": {
    "collapsed": false,
    "pycharm": {
     "name": "#%%\n"
    }
   }
  },
  {
   "cell_type": "code",
   "execution_count": 11,
   "outputs": [],
   "source": [
    "# Fare is related to family size ('Parch' and 'SibSp') and 'Pclass' features\n",
    "median_fare = df_all.groupby(['Pclass', 'Parch', 'SibSp']).Fare.median()[3][0][0]\n",
    "# Therefore, the median 'Fare' value of a male with a third class ticket and no family is a logical choice to fill the missing value.\n",
    "df_all['Fare'] = df_all['Fare'].fillna(median_fare)"
   ],
   "metadata": {
    "collapsed": false,
    "pycharm": {
     "name": "#%%\n"
    }
   }
  },
  {
   "cell_type": "code",
   "execution_count": 12,
   "outputs": [],
   "source": [
    "## Cabin ##\n",
    "# The cabin feature has many missing values and it cannot be simply ignored because some cabins might have higher survival rates.\n",
    "\n",
    "# The deck column contains the first letter of the cabin column. 'M' stands for missing value.\n",
    "df_all['Deck'] = df_all['Cabin'].apply(lambda s: s[0] if pd.notnull(s) else 'M')\n",
    "\n",
    "# The first letter of the cabin values are the decks in which they are located\n",
    "df_all_decks = df_all.groupby(['Deck', 'Pclass']).count().drop(\n",
    "    columns=['Survived', 'Sex', 'Age', 'SibSp', 'Parch', 'Fare', 'Embarked', 'Cabin', 'PassengerId', 'Ticket']\n",
    ").rename(columns={'Name': 'Count'}).transpose()"
   ],
   "metadata": {
    "collapsed": false,
    "pycharm": {
     "name": "#%%\n"
    }
   }
  },
  {
   "cell_type": "code",
   "execution_count": 13,
   "outputs": [
    {
     "data": {
      "text/plain": "Deck     A   B   C   D      E         F     G   M            T\nPclass   1   1   1   1  2   1  2  3   2  3  3   1    2    3  1\nCount   22  65  94  40  6  34  4  3  13  8  5  67  254  693  1",
      "text/html": "<div>\n<style scoped>\n    .dataframe tbody tr th:only-of-type {\n        vertical-align: middle;\n    }\n\n    .dataframe tbody tr th {\n        vertical-align: top;\n    }\n\n    .dataframe thead tr th {\n        text-align: left;\n    }\n</style>\n<table border=\"1\" class=\"dataframe\">\n  <thead>\n    <tr>\n      <th>Deck</th>\n      <th>A</th>\n      <th>B</th>\n      <th>C</th>\n      <th colspan=\"2\" halign=\"left\">D</th>\n      <th colspan=\"3\" halign=\"left\">E</th>\n      <th colspan=\"2\" halign=\"left\">F</th>\n      <th>G</th>\n      <th colspan=\"3\" halign=\"left\">M</th>\n      <th>T</th>\n    </tr>\n    <tr>\n      <th>Pclass</th>\n      <th>1</th>\n      <th>1</th>\n      <th>1</th>\n      <th>1</th>\n      <th>2</th>\n      <th>1</th>\n      <th>2</th>\n      <th>3</th>\n      <th>2</th>\n      <th>3</th>\n      <th>3</th>\n      <th>1</th>\n      <th>2</th>\n      <th>3</th>\n      <th>1</th>\n    </tr>\n  </thead>\n  <tbody>\n    <tr>\n      <th>Count</th>\n      <td>22</td>\n      <td>65</td>\n      <td>94</td>\n      <td>40</td>\n      <td>6</td>\n      <td>34</td>\n      <td>4</td>\n      <td>3</td>\n      <td>13</td>\n      <td>8</td>\n      <td>5</td>\n      <td>67</td>\n      <td>254</td>\n      <td>693</td>\n      <td>1</td>\n    </tr>\n  </tbody>\n</table>\n</div>"
     },
     "execution_count": 13,
     "metadata": {},
     "output_type": "execute_result"
    }
   ],
   "source": [
    "df_all_decks\n"
   ],
   "metadata": {
    "collapsed": false,
    "pycharm": {
     "name": "#%%\n"
    }
   }
  },
  {
   "cell_type": "code",
   "execution_count": 18,
   "outputs": [],
   "source": [
    "def get_pclass_dist(df):\n",
    "    deck_counts = {'A': {}, 'B': {}, 'C': {}, 'D': {}, 'E': {}, 'F': {}, 'G': {}, 'M':{}, 'T': {}}\n",
    "\n",
    "    decks = df.columns.levels[0]\n",
    "    for deck in decks:\n",
    "        for pclass in range(1, 4):\n",
    "            try:\n",
    "                count = df[deck][pclass][0]\n",
    "                deck_counts[deck][pclass] = count\n",
    "            except KeyError:\n",
    "                deck_counts[deck][pclass] = 0\n",
    "\n",
    "    df_decks = pd.DataFrame(deck_counts)\n",
    "\n",
    "    # Created a dictionary for every passenger class count in every deck\n",
    "    deck_percentages = {}\n",
    "\n",
    "    for col in df_decks.columns:\n",
    "        deck_percentages[col] = [(count / df_decks[col].sum()) * 100 for count in df_decks[col]]\n",
    "\n",
    "    return deck_counts, deck_percentages\n",
    "\n",
    "def display_pclass_dist(percentages):\n",
    "    df_percentages = pd.DataFrame(percentages).transpose()\n",
    "    deck_names = ('A', 'B', 'C', 'D', 'E', 'F', 'G', 'M', 'T')\n",
    "    bar_count = np.arange(len(deck_names))\n",
    "    bar_width = 0.7\n",
    "\n",
    "    pclass_1 = df_percentages[0]\n",
    "    pclass_2 = df_percentages[1]\n",
    "    pclass_3 = df_percentages[2]\n",
    "\n",
    "    plt.figure(figsize=(30, 15))\n",
    "    plt.bar(bar_count, pclass_1, color='#87fbb9', edgecolor='black', width=bar_width, label='Passenger class 1')\n",
    "    plt.bar(bar_count, pclass_2, color='#87c9fb', edgecolor='black', width=bar_width, label='Passenger class 2')\n",
    "    plt.bar(bar_count, pclass_3, color='#f37200', edgecolor='black', width=bar_width, label='Passenger class 3')\n",
    "\n",
    "    plt.xlabel('Deck', size=20, labelpad=30)\n",
    "    plt.ylabel('Passenger class percentage', size=20, labelpad=30)\n",
    "    plt.xticks(bar_count, deck_names)\n",
    "    plt.tick_params(axis='x', labelsize=20)\n",
    "    plt.tick_params(axis='y', labelsize=20)\n",
    "\n",
    "    plt.legend(loc='upper left', bbox_to_anchor=(1, 1), prop={'size': 20})\n",
    "    plt.title('Passenger class distribution in decks', size=24, y=1)\n",
    "\n",
    "    plt.show()"
   ],
   "metadata": {
    "collapsed": false,
    "pycharm": {
     "name": "#%%\n"
    }
   }
  },
  {
   "cell_type": "code",
   "execution_count": 19,
   "outputs": [
    {
     "data": {
      "text/plain": "<Figure size 2160x1080 with 1 Axes>",
      "image/png": "[encoded data removed]"
     },
     "metadata": {},
     "output_type": "display_data"
    }
   ],
   "source": [
    "all_deck_count, all_deck_perc = get_pclass_dist(df_all_decks)\n",
    "display_pclass_dist(all_deck_perc)\n"
   ],
   "metadata": {
    "collapsed": false,
    "pycharm": {
     "name": "#%%\n"
    }
   }
  },
  {
   "cell_type": "code",
   "execution_count": 20,
   "outputs": [],
   "source": [
    "# Deck T has the closest resemblance to deck A, so that passenger will be regrouped with deck A\n",
    "dect_regroup = df_all[df_all['Deck'] == 'T'].index\n",
    "df_all.loc[dect_regroup, 'Deck'] = 'A'\n"
   ],
   "metadata": {
    "collapsed": false,
    "pycharm": {
     "name": "#%%\n"
    }
   }
  },
  {
   "cell_type": "code",
   "execution_count": null,
   "outputs": [],
   "source": [],
   "metadata": {
    "collapsed": false,
    "pycharm": {
     "name": "#%%\n"
    }
   }
  }
 ],
 "metadata": {
  "kernelspec": {
   "display_name": "Python 3",
   "language": "python",
   "name": "python3"
  },
  "language_info": {
   "codemirror_mode": {
    "name": "ipython",
    "version": 2
   },
   "file_extension": ".py",
   "mimetype": "text/x-python",
   "name": "python",
   "nbconvert_exporter": "python",
   "pygments_lexer": "ipython2",
   "version": "2.7.6"
  }
 },
 "nbformat": 4,
 "nbformat_minor": 0
}